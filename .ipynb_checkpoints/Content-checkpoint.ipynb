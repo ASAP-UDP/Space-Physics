{
 "cells": [
  {
   "cell_type": "markdown",
   "id": "fd5191f4",
   "metadata": {},
   "source": [
    "<table><tr> \n",
    "    <td> <img src=\"images/UOM.jpg\" width=\"10%\" align=\"left\">\n",
    "<h1 align = \"center\" style=\"color: #cd7f32;\"> </h1> </td>\n",
    "    \n",
    "<td> <a href=\"https://www.researchgate.net/lab/Dr-Anil-Narayan-Raghav-Lab\" target=\"_blank\" width = \"5%\" align = \"right\"><img src=\"images/ResearchGate_icon_SVG.jpg\"></a> </td>\n",
    "    \n",
    "</tr></table>"
   ]
  },
  {
   "cell_type": "markdown",
   "id": "0dcba8d9",
   "metadata": {},
   "source": [
    "<table><tr> \n",
    "    <td  style=\"background-color:#ffffff;text-align:left;\"><a href=\"http://qworld.lu.lv\" target=\"_blank\"><img src=\"images/UOM.png\" width=\"30%\" align=\"left\"></a></td> \n",
    "    <td style=\"background-color:#ffffff;text-align:center;\" width = \"50%\"> <h1 align=\"center\" style = \"color: #cd7f32;\"> Space Physics </h1> </td>\n",
    "    <td style=\"background-color:#ffffff;\">&nbsp;</td>\n",
    "    <td style=\"background-color:#ffffff;vertical-align:text-middle;text-align:right;\">\n",
    "        <table width = \"200\"><tr style=\"background-color:white;\">\n",
    "            <td> Visit</td>\n",
    "            <td><a href=\"https://www.researchgate.net/lab/Dr-Anil-Narayan-Raghav-Lab\" target=\"_blank\"><img src=\"images/ResearchGate_icon_SVG.svg\" width=\"35px\"></a></td>\n",
    "        </tr></table>\n",
    "    </td>     \n",
    "</tr></table>\n",
    "\n",
    "<table><tr>\n",
    "    <td  style=\"background-color:#ffffff;text-align:left;\"><a href=\"http://qworld.lu.lv\" target=\"_blank\"><img src=\"images/qworld.jpg\" width=\"30%\" align=\"left\"></a></td>\n",
    "    <td style=\"background-color:#ffffff;\">&nbsp;</td>\n",
    "    <td style=\"background-color:#ffffff;vertical-align:text-middle;text-align:right;\">\n",
    "        <table><tr style=\"background-color:white;\">\n",
    "            <td>Follow</td>\n",
    "            <td><a href=\"https://www.facebook.com/qworld19/\" target=\"_blank\"><img src=\"images/facebook-icon.png\" width=\"40px\"></a></td>\n",
    "            <td><a href=\"https://twitter.com/QWorld19\" target=\"_blank\"><img src=\"images/twitter-icon.png\" width=\"40px\"></a></td>\n",
    "            <td width=\"10pt\"></td>\n",
    "            <td> Join</td>\n",
    "            <td><a href=\"https://qworldworkspace.slack.com/\" target=\"_blank\"><img src=\"images/slack-icon.png\" width=\"80px\"></a></td>\n",
    "             <td width=\"10pt\"></td>\n",
    "            <td> Visit</td>\n",
    "            <td><a href=\"https://www.researchgate.net/lab/Dr-Anil-Narayan-Raghav-Lab\" target=\"_blank\"><img src=\"images/ResearchGate_icon_SVG.svg\" width=\"35px\"></a></td>\n",
    "        </tr></table>\n",
    "    </td>     \n",
    "</tr></table>"
   ]
  },
  {
   "cell_type": "markdown",
   "id": "c47a8c22",
   "metadata": {},
   "source": [
    "<img src=\"images/UOM.png\" width=\"10%\" align=\"left\">"
   ]
  },
  {
   "cell_type": "markdown",
   "id": "d9c0ae66",
   "metadata": {},
   "source": [
    "<h2 align=\"center\" style=\"color: #cd7f32;\"> Content </h2>"
   ]
  },
  {
   "cell_type": "markdown",
   "id": "422cc063",
   "metadata": {},
   "source": [
    "### Introduction\n",
    "\n",
    "<a href=\"Introduction/Introduction.ipynb\" target=\"_blank\">Handeling FITS Data</a> | <a href=\"Generating Time Series Data/Generating Time Series.ipynb\" target=\"_blank\">Generating Time Series</a>"
   ]
  },
  {
   "cell_type": "markdown",
   "id": "6fecf0f8-ab5e-45ad-9a68-69e76a42d2c3",
   "metadata": {},
   "source": [
    "### CDFS Data \n",
    "\n",
    "<a href=\"Good Time Intervals/Good Time Intervals.ipynb\" target=\"_blank\">Good Time Intervals</a>"
   ]
  },
  {
   "cell_type": "markdown",
   "id": "ee277054",
   "metadata": {},
   "source": [
    "### Analysis techniques\n",
    "\n",
    "<a href=\"Analysis Techniques/analysis techniques.ipynb\" target=\"_blank\">Power Spectral Density using (FFT), Structure Function (SF) and J-KMethod\n",
    "</a>"
   ]
  },
  {
   "cell_type": "markdown",
   "id": "a45f5ff4",
   "metadata": {},
   "source": [
    "<a>"
   ]
  }
 ],
 "metadata": {
  "kernelspec": {
   "display_name": "Python 3 (ipykernel)",
   "language": "python",
   "name": "python3"
  },
  "language_info": {
   "codemirror_mode": {
    "name": "ipython",
    "version": 3
   },
   "file_extension": ".py",
   "mimetype": "text/x-python",
   "name": "python",
   "nbconvert_exporter": "python",
   "pygments_lexer": "ipython3",
   "version": "3.11.4"
  }
 },
 "nbformat": 4,
 "nbformat_minor": 5
}
