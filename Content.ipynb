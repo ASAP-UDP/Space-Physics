{
 "cells": [
  {
   "attachments": {},
   "cell_type": "markdown",
   "id": "4dbd93cc",
   "metadata": {},
   "source": [
    "<table><tr> \n",
    "    <td  style=\"background-color:#ffffff;text-align:left;\"><a href=\"http://qworld.lu.lv\" target=\"_blank\"><img src=\"images/Logo/UOM.png\" width=\"30%\" align=\"left\"></a></td> \n",
    "    <td style=\"background-color:#ffffff;text-align:center;\" width = \"50%\"> <h1 align=\"center\" style = \"color: #cd7f32;\"> Space Physics </h1> </td>\n",
    "    <td style=\"background-color:#ffffff;\">&nbsp;</td>\n",
    "    <td style=\"background-color:#ffffff;vertical-align:text-middle;text-align:right;\">\n",
    "        <table width = \"200\"><tr style=\"background-color:white;\">\n",
    "            <td> Visit</td>\n",
    "            <td><a href=\"https://www.researchgate.net/lab/Dr-Anil-Narayan-Raghav-Lab\" target=\"_blank\"><img src=\"images/Logo/ResearchGate_icon_SVG.svg\" width=\"35px\"></a></td>\n",
    "        </tr></table>\n",
    "    </td>     \n",
    "</tr></table>"
   ]
  },
  {
   "cell_type": "markdown",
   "id": "d9c0ae66",
   "metadata": {},
   "source": [
    "<h2 align=\"center\" style=\"color: #cd7f32;\"> Content </h2>"
   ]
  },
  {
   "cell_type": "markdown",
   "id": "422cc063",
   "metadata": {},
   "source": [
    "### Introduction\n",
    "\n",
    "<a href=\"FITS File Handeling/Fits Handeling.ipynb\" target=\"_blank\">Handeling FITS Data</a> | <a href=\"Generating Time Series Data/Generating Time Series.ipynb\" target=\"_blank\">Generating Time Series</a>"
   ]
  },
  {
   "cell_type": "markdown",
   "id": "6fecf0f8-ab5e-45ad-9a68-69e76a42d2c3",
   "metadata": {},
   "source": [
    "### CDFS Data \n",
    "\n",
    "<a href=\"Good Time Intervals/Good Time Intervals.ipynb\" target=\"_blank\">Good Time Intervals</a>"
   ]
  },
  {
   "cell_type": "markdown",
   "id": "ee277054",
   "metadata": {},
   "source": [
    "### Analysis techniques\n",
    "\n",
    "<a href=\"Analysis Techniques/analysis techniques.ipynb\" target=\"_blank\">Power Spectral Density using (FFT), Structure Function (SF) and J-KMethod\n",
    "</a>"
   ]
  }
 ],
 "metadata": {
  "kernelspec": {
   "display_name": "Python 3 (ipykernel)",
   "language": "python",
   "name": "python3"
  },
  "language_info": {
   "codemirror_mode": {
    "name": "ipython",
    "version": 3
   },
   "file_extension": ".py",
   "mimetype": "text/x-python",
   "name": "python",
   "nbconvert_exporter": "python",
   "pygments_lexer": "ipython3",
   "version": "3.11.4"
  }
 },
 "nbformat": 4,
 "nbformat_minor": 5
}
